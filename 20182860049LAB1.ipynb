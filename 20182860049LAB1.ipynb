{
 "cells": [
  {
   "cell_type": "code",
   "execution_count": 1,
   "id": "cda2be1c",
   "metadata": {},
   "outputs": [
    {
     "name": "stdout",
     "output_type": "stream",
     "text": [
      "First Number: 40\n",
      "Second Number: 40\n",
      "Result  80\n"
     ]
    }
   ],
   "source": [
    "num1=int(input(\"First Number: \"))\n",
    "num2=int(input(\"Second Number: \"))\n",
    "res= (num1+num2)\n",
    "product = num1*num2\n",
    "if product > 1000:\n",
    "    print(\"Result \",res) \n",
    "else:\n",
    "    print(\"Product is not greater than 1000!\")"
   ]
  },
  {
   "cell_type": "code",
   "execution_count": 2,
   "id": "118ae406",
   "metadata": {},
   "outputs": [
    {
     "name": "stdout",
     "output_type": "stream",
     "text": [
      "Radius: 3\n",
      "28.259999999999998\n",
      "18.84\n"
     ]
    }
   ],
   "source": [
    "r=float(input(\"Radius: \"))\n",
    "area=3.14*r*r\n",
    "perimeter=2*3.14*r\n",
    "print(area)\n",
    "print(perimeter)"
   ]
  },
  {
   "cell_type": "code",
   "execution_count": 3,
   "id": "eaf847d8",
   "metadata": {},
   "outputs": [
    {
     "name": "stdout",
     "output_type": "stream",
     "text": [
      "Principal amount: 20000\n",
      "Years: 5\n",
      "Rate of interest: 10\n"
     ]
    }
   ],
   "source": [
    "def compound_interest_2018260049():\n",
    "    compound_interest =  p * (pow((1 + r / 100), t))\n",
    "p = float(input(\"Principal amount: \"))\n",
    "t = float(input(\"Years: \"))\n",
    "r = float(input(\"Rate of interest: \"))\n",
    "\n",
    "compound_interest_2018260049()"
   ]
  },
  {
   "cell_type": "code",
   "execution_count": 4,
   "id": "48c5291f",
   "metadata": {},
   "outputs": [
    {
     "name": "stdout",
     "output_type": "stream",
     "text": [
      "Number: 4\n",
      "30\n"
     ]
    }
   ],
   "source": [
    "def SquareSeries(number):\n",
    "    if(number == 0):\n",
    "        return 0\n",
    "    else:\n",
    "        return (number * number) + SquareSeries(number-1)\n",
    "num = int(input(\"Number: \"))\n",
    "total = SquareSeries(num)\n",
    "print(total)"
   ]
  },
  {
   "cell_type": "code",
   "execution_count": 5,
   "id": "f997c6bd",
   "metadata": {},
   "outputs": [
    {
     "name": "stdout",
     "output_type": "stream",
     "text": [
      "Number: 3\n",
      "Prime\n"
     ]
    }
   ],
   "source": [
    "def prime_find_2018260049():\n",
    "    if number > 1:\n",
    "        return True\n",
    "    else:\n",
    "        return False\n",
    "number = int(input(\"Number: \"))\n",
    "check = prime_find_2018260049()\n",
    "for i in range(2,number):\n",
    "        if (number % i) == 0:\n",
    "            print(\"Composite\")\n",
    "            break\n",
    "        else:\n",
    "            print(\"Prime\")"
   ]
  },
  {
   "cell_type": "code",
   "execution_count": 6,
   "id": "efaeeaea",
   "metadata": {},
   "outputs": [
    {
     "name": "stdout",
     "output_type": "stream",
     "text": [
      "Number: 8\n",
      "21\n"
     ]
    }
   ],
   "source": [
    "number = int(input(\"Number: \"))\n",
    "def Fibonacci(n): \n",
    "    if n<0: \n",
    "        print(\"Wrong input!\") \n",
    "    elif n==0: \n",
    "        return 0\n",
    "    elif n==1: \n",
    "        return 1\n",
    "    else: \n",
    "        return Fibonacci(n-1)+Fibonacci(n-2) \n",
    "\n",
    "print(Fibonacci(number))"
   ]
  },
  {
   "cell_type": "code",
   "execution_count": 7,
   "id": "2933e117",
   "metadata": {},
   "outputs": [
    {
     "name": "stdout",
     "output_type": "stream",
     "text": [
      "Total:  55\n"
     ]
    }
   ],
   "source": [
    "total = 0\n",
    "list = [1,2,3,4,5,6,7,8,9,10]\n",
    "for element in range(0, len(list)):\n",
    "    total = total + list[element]\n",
    "print(\"Total: \",total)"
   ]
  },
  {
   "cell_type": "code",
   "execution_count": 8,
   "id": "412fb176",
   "metadata": {},
   "outputs": [
    {
     "name": "stdout",
     "output_type": "stream",
     "text": [
      "25\n"
     ]
    }
   ],
   "source": [
    "NumList=[1,2,3,4,5,6,7,8,9,10]\n",
    "total=0\n",
    "\n",
    "for j in range (0,len(NumList)):\n",
    "    if(j % 2 == 0):\n",
    "        total = total + NumList[j]\n",
    "print(total)"
   ]
  },
  {
   "cell_type": "code",
   "execution_count": 9,
   "id": "156d1929",
   "metadata": {},
   "outputs": [
    {
     "name": "stdout",
     "output_type": "stream",
     "text": [
      "The Smallest Element:  1\n",
      "The Largest Element:  10\n"
     ]
    }
   ],
   "source": [
    "NumList = [1,2,3,4,5,6,7,8,9,10]\n",
    "smallest = largest = NumList[0]\n",
    "def largest_number_2018260049():\n",
    "    largest = NumList[0]\n",
    "    for j in range(1, len(NumList)):\n",
    "        if (largest < NumList[j]):\n",
    "            largest = NumList[j]\n",
    "    print(\"The Largest Element: \", largest)\n",
    "def smallest_number_2018260049():\n",
    "    smallest = NumList[0]\n",
    "    for j in range(1, len(NumList)):\n",
    "        if (smallest > NumList[j]):\n",
    "            smallest = NumList[j]\n",
    "    print(\"The Smallest Element: \", smallest)\n",
    "\n",
    "smallest_number_2018260049()\n",
    "largest_number_2018260049()"
   ]
  },
  {
   "cell_type": "code",
   "execution_count": 10,
   "id": "af0bf784",
   "metadata": {},
   "outputs": [
    {
     "name": "stdout",
     "output_type": "stream",
     "text": [
      "Second largest element: 9\n"
     ]
    }
   ],
   "source": [
    "list=[1,2,3,4,5,6,7,8,9,10] \n",
    "l=len(list) \n",
    "list.sort() \n",
    "print(\"Second largest element:\", list[l-2])"
   ]
  },
  {
   "cell_type": "code",
   "execution_count": 11,
   "id": "f9cbcbf5",
   "metadata": {},
   "outputs": [
    {
     "name": "stdout",
     "output_type": "stream",
     "text": [
      "String: Hello World!\n",
      "Based on even index number : \n",
      "H\n",
      "l\n",
      "o\n",
      "W\n",
      "r\n",
      "d\n"
     ]
    }
   ],
   "source": [
    "string=input(\"String: \") \n",
    "print(\"Based on even index number : \") \n",
    "for i in range (len(string)):\n",
    "    if(i%2==0):\n",
    "        print(string[i])"
   ]
  },
  {
   "cell_type": "code",
   "execution_count": 12,
   "id": "40ea6118",
   "metadata": {},
   "outputs": [
    {
     "name": "stdout",
     "output_type": "stream",
     "text": [
      "String: Hello World!\n",
      "Enter a number: 4\n",
      "New string:  o World!\n"
     ]
    }
   ],
   "source": [
    "string=input(\"String: \") \n",
    "l=len(string) \n",
    "n=int(input(\"Enter a number: \")) \n",
    "new_str=\"\"\n",
    "for i in range(0,l):\n",
    "    if i>=n:\n",
    "        new_str=new_str+string[i] \n",
    "print(\"New string: \",new_str)"
   ]
  },
  {
   "cell_type": "code",
   "execution_count": 13,
   "id": "a3caccc8",
   "metadata": {},
   "outputs": [
    {
     "name": "stdout",
     "output_type": "stream",
     "text": [
      "We must take CSE303. CSE303 means Statistics for Data science. CSE303 Section:3\n",
      "CSE303\n",
      "3\n"
     ]
    }
   ],
   "source": [
    "string = 'We must take CSE303. CSE303 means Statistics for Data science. CSE303 Section:3'\n",
    "print(string) \n",
    "sub_string = 'CSE303'\n",
    "print(sub_string) \n",
    "count = 0\n",
    "sub_len=len(sub_string) \n",
    "for i in range(len(string)):\n",
    "    if string[i:i+sub_len] == sub_string:\n",
    "        count += 1\n",
    "print (count)"
   ]
  },
  {
   "cell_type": "code",
   "execution_count": 14,
   "id": "bfb4ac7c",
   "metadata": {},
   "outputs": [
    {
     "name": "stdout",
     "output_type": "stream",
     "text": [
      "String: WOW\n",
      "Palindrome\n"
     ]
    }
   ],
   "source": [
    "def palindrome_checker_2018260049(string):\n",
    "    string1 = ''.join(reversed(string))\n",
    "    if(string==string1):\n",
    "        return True\n",
    "    else:\n",
    "        return False\n",
    "string=input(\"String: \") \n",
    "check = palindrome_checker_2018260049(string)\n",
    "if (check):\n",
    "    print(\"Palindrome\") \n",
    "else: \n",
    "    print(\"Not palindrome\")"
   ]
  },
  {
   "cell_type": "code",
   "execution_count": 15,
   "id": "1d5dec8c",
   "metadata": {},
   "outputs": [
    {
     "name": "stdout",
     "output_type": "stream",
     "text": [
      "Elements of list 1:  [1, 2, 3, 4, 5, 6, 7, 8, 9, 10]\n",
      "Odd numbers from list 1 : \n",
      "[1, 3, 5, 7, 9]\n",
      "Elements of list 2:  [11, 12, 13, 14, 15, 16, 17, 18, 19, 20]\n",
      "Even numbers from list 2 : \n",
      "[12, 14, 16, 18, 20]\n"
     ]
    }
   ],
   "source": [
    "lis1=[1,2,3,4,5,6,7,8,9,10] \n",
    "lis2=[11,12,13,14,15,16,17,18,19,20] \n",
    "odd=[] \n",
    "even=[] \n",
    "l1=len(lis1) \n",
    "l2=len(lis2) \n",
    "print(\"Elements of list 1: \", lis1) \n",
    "print(\"Odd numbers from list 1 : \") \n",
    "for i in range (0,l1):\n",
    "    if(lis1[i]%2!=0):\n",
    "        odd.append(lis1[i]) \n",
    "print(odd) \n",
    "print(\"Elements of list 2: \", lis2) \n",
    "print(\"Even numbers from list 2 : \") \n",
    "for i in range (0,l2):\n",
    "    if(lis2[i]%2==0):\n",
    "        even.append(lis2[i]) \n",
    "print(even)"
   ]
  },
  {
   "cell_type": "code",
   "execution_count": null,
   "id": "96c5b37b",
   "metadata": {},
   "outputs": [],
   "source": []
  }
 ],
 "metadata": {
  "kernelspec": {
   "display_name": "Python 3",
   "language": "python",
   "name": "python3"
  },
  "language_info": {
   "codemirror_mode": {
    "name": "ipython",
    "version": 3
   },
   "file_extension": ".py",
   "mimetype": "text/x-python",
   "name": "python",
   "nbconvert_exporter": "python",
   "pygments_lexer": "ipython3",
   "version": "3.8.8"
  }
 },
 "nbformat": 4,
 "nbformat_minor": 5
}
